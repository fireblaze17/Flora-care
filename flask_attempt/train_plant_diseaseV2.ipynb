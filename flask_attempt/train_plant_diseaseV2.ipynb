{
 "cells": [
  {
   "cell_type": "code",
   "execution_count": 1,
   "metadata": {},
   "outputs": [],
   "source": [
    "import tensorflow as tf\n",
    "from tensorflow.keras.applications import ResNet50V2\n",
    "from tensorflow.keras.preprocessing.image import ImageDataGenerator\n",
    "import scipy\n"
   ]
  },
  {
   "cell_type": "code",
   "execution_count": 2,
   "metadata": {},
   "outputs": [
    {
     "name": "stdout",
     "output_type": "stream",
     "text": [
      "Found 70295 images belonging to 38 classes.\n"
     ]
    }
   ],
   "source": [
    "# data augmentation to create more varied data\n",
    "datagen = ImageDataGenerator(\n",
    "    rescale=1./255,\n",
    "    rotation_range=45,\n",
    "    width_shift_range=0.2, \n",
    "    height_shift_range=0.2,\n",
    "    shear_range=0.1,\n",
    "    zoom_range=0.2,\n",
    "    horizontal_flip=True,\n",
    "    fill_mode='nearest'\n",
    ")\n",
    "\n",
    "# loiading traning file and pre processing it \n",
    "train_generator = datagen.flow_from_directory(\n",
    "    'train',  \n",
    "    target_size=(224, 224),\n",
    "    batch_size=16,\n",
    "    class_mode='categorical',\n",
    "    shuffle= True\n",
    ")"
   ]
  },
  {
   "cell_type": "code",
   "execution_count": 3,
   "metadata": {},
   "outputs": [
    {
     "name": "stdout",
     "output_type": "stream",
     "text": [
      "Found 17572 images belonging to 38 classes.\n"
     ]
    }
   ],
   "source": [
    "\n",
    "\n",
    "# ImageDataGenerator for validation data - no augmentation, just rescaling\n",
    "validation_datagen = ImageDataGenerator(\n",
    "    rescale=1./255\n",
    ")\n",
    "\n",
    "# Assuming your validation data is stored in a directory structure similar to training data\n",
    "validation_generator = validation_datagen.flow_from_directory(\n",
    "    'valid',  # Directory with validation data\n",
    "    target_size=(224, 224),  # Ensure this matches the input size used during training\n",
    "    batch_size=16,  # Can be a different batch size than training\n",
    "    class_mode='categorical',  # Ensure this matches the training setup\n",
    "    shuffle=False  # No need to shuffle validation data\n",
    ")\n"
   ]
  },
  {
   "cell_type": "code",
   "execution_count": 4,
   "metadata": {},
   "outputs": [],
   "source": [
    "from tensorflow.keras.models import Model\n",
    "from tensorflow.keras.layers import GlobalAveragePooling2D, Dense, Dropout"
   ]
  },
  {
   "cell_type": "code",
   "execution_count": 5,
   "metadata": {},
   "outputs": [],
   "source": [
    "base_model = ResNet50V2(weights='imagenet', include_top=False, input_shape=(224, 224, 3))\n",
    "for layer in base_model.layers:\n",
    "    layer.trainable = False\n",
    "#importing pre trained model "
   ]
  },
  {
   "cell_type": "code",
   "execution_count": 6,
   "metadata": {},
   "outputs": [],
   "source": [
    "from tensorflow.keras.layers import Dense,Conv2D,MaxPool2D,Flatten,Dropout,GlobalAveragePooling2D\n",
    "from tensorflow.keras.models import Sequential"
   ]
  },
  {
   "cell_type": "code",
   "execution_count": 7,
   "metadata": {},
   "outputs": [],
   "source": [
    "model = Sequential()\n",
    "model.add(base_model)\n",
    "model.add(Conv2D(filters = 768,kernel_size = 4, activation = 'relu'))\n",
    "model.add(Dropout(0.3))\n",
    "model.add(MaxPool2D(pool_size= 2, strides=2)) \n",
    "model.add(Dropout(0.25))\n",
    "model.add(Flatten())\n",
    "model.add(Dense(units = 256, activation = 'relu'))\n",
    "model.add(Dense(units = 38, activation = 'softmax'))\n",
    "#adding custom layers to train on specific problem "
   ]
  },
  {
   "cell_type": "code",
   "execution_count": 8,
   "metadata": {},
   "outputs": [],
   "source": []
  },
  {
   "cell_type": "code",
   "execution_count": 9,
   "metadata": {},
   "outputs": [],
   "source": []
  },
  {
   "cell_type": "code",
   "execution_count": 10,
   "metadata": {},
   "outputs": [
    {
     "name": "stdout",
     "output_type": "stream",
     "text": [
      "Model: \"sequential\"\n",
      "_________________________________________________________________\n",
      " Layer (type)                Output Shape              Param #   \n",
      "=================================================================\n",
      " resnet50v2 (Functional)     (None, 7, 7, 2048)        23564800  \n",
      "                                                                 \n",
      " conv2d (Conv2D)             (None, 4, 4, 768)         25166592  \n",
      "                                                                 \n",
      " dropout (Dropout)           (None, 4, 4, 768)         0         \n",
      "                                                                 \n",
      " max_pooling2d_3 (MaxPooling  (None, 2, 2, 768)        0         \n",
      " 2D)                                                             \n",
      "                                                                 \n",
      " dropout_1 (Dropout)         (None, 2, 2, 768)         0         \n",
      "                                                                 \n",
      " flatten (Flatten)           (None, 3072)              0         \n",
      "                                                                 \n",
      " dense (Dense)               (None, 256)               786688    \n",
      "                                                                 \n",
      " dense_1 (Dense)             (None, 38)                9766      \n",
      "                                                                 \n",
      "=================================================================\n",
      "Total params: 49,527,846\n",
      "Trainable params: 25,963,046\n",
      "Non-trainable params: 23,564,800\n",
      "_________________________________________________________________\n"
     ]
    }
   ],
   "source": [
    "model.summary()\n"
   ]
  },
  {
   "cell_type": "code",
   "execution_count": 11,
   "metadata": {},
   "outputs": [
    {
     "name": "stdout",
     "output_type": "stream",
     "text": [
      "Epoch 1/100\n",
      "4394/4394 [==============================] - 774s 157ms/step - loss: 1.2909 - accuracy: 0.6613 - val_loss: 0.6771 - val_accuracy: 0.7997\n",
      "Epoch 2/100\n",
      "4394/4394 [==============================] - 435s 99ms/step - loss: 0.7828 - accuracy: 0.7822 - val_loss: 0.5747 - val_accuracy: 0.8342\n",
      "Epoch 3/100\n",
      "4394/4394 [==============================] - 436s 99ms/step - loss: 0.7003 - accuracy: 0.8127 - val_loss: 0.4308 - val_accuracy: 0.8758\n",
      "Epoch 4/100\n",
      "4394/4394 [==============================] - 443s 101ms/step - loss: 0.6434 - accuracy: 0.8321 - val_loss: 0.4380 - val_accuracy: 0.8728\n",
      "Epoch 5/100\n",
      "4394/4394 [==============================] - 442s 101ms/step - loss: 0.5964 - accuracy: 0.8442 - val_loss: 0.3716 - val_accuracy: 0.8969\n",
      "Epoch 6/100\n",
      "4394/4394 [==============================] - 440s 100ms/step - loss: 0.5840 - accuracy: 0.8533 - val_loss: 0.4017 - val_accuracy: 0.8835\n",
      "Epoch 7/100\n",
      "4394/4394 [==============================] - 439s 100ms/step - loss: 0.5677 - accuracy: 0.8583 - val_loss: 0.3343 - val_accuracy: 0.9131\n",
      "Epoch 8/100\n",
      "4394/4394 [==============================] - 439s 100ms/step - loss: 0.5659 - accuracy: 0.8613 - val_loss: 0.3787 - val_accuracy: 0.8965\n",
      "Epoch 9/100\n",
      "4394/4394 [==============================] - 439s 100ms/step - loss: 0.5493 - accuracy: 0.8643 - val_loss: 0.2988 - val_accuracy: 0.9170\n",
      "Epoch 10/100\n",
      "4394/4394 [==============================] - 441s 100ms/step - loss: 0.5318 - accuracy: 0.8698 - val_loss: 0.2828 - val_accuracy: 0.9201\n",
      "Epoch 11/100\n",
      "4394/4394 [==============================] - 440s 100ms/step - loss: 0.5374 - accuracy: 0.8723 - val_loss: 0.3325 - val_accuracy: 0.9107\n",
      "Epoch 12/100\n",
      "4394/4394 [==============================] - 438s 100ms/step - loss: 0.5284 - accuracy: 0.8762 - val_loss: 0.2988 - val_accuracy: 0.9215\n",
      "Epoch 13/100\n",
      "4394/4394 [==============================] - 437s 100ms/step - loss: 0.5235 - accuracy: 0.8784 - val_loss: 0.3111 - val_accuracy: 0.9078\n",
      "Epoch 14/100\n",
      "4394/4394 [==============================] - 441s 100ms/step - loss: 0.5214 - accuracy: 0.8789 - val_loss: 0.3191 - val_accuracy: 0.9143\n",
      "Epoch 15/100\n",
      "4394/4394 [==============================] - 444s 101ms/step - loss: 0.4785 - accuracy: 0.8851 - val_loss: 0.2714 - val_accuracy: 0.9280\n",
      "Epoch 16/100\n",
      "4394/4394 [==============================] - 441s 100ms/step - loss: 0.5070 - accuracy: 0.8837 - val_loss: 0.2682 - val_accuracy: 0.9256\n",
      "Epoch 17/100\n",
      "4394/4394 [==============================] - 439s 100ms/step - loss: 0.5133 - accuracy: 0.8824 - val_loss: 0.2747 - val_accuracy: 0.9249\n",
      "Epoch 18/100\n",
      "4394/4394 [==============================] - 443s 101ms/step - loss: 0.4997 - accuracy: 0.8849 - val_loss: 0.3737 - val_accuracy: 0.9115\n",
      "Epoch 19/100\n",
      "4394/4394 [==============================] - 440s 100ms/step - loss: 0.4895 - accuracy: 0.8883 - val_loss: 0.2626 - val_accuracy: 0.9258\n",
      "Epoch 20/100\n",
      "4394/4394 [==============================] - 441s 100ms/step - loss: 0.5290 - accuracy: 0.8856 - val_loss: 0.3555 - val_accuracy: 0.8945\n",
      "Epoch 20: early stopping\n"
     ]
    }
   ],
   "source": [
    "from tensorflow.keras.callbacks import EarlyStopping\n",
    "\n",
    "model.compile(optimizer='adam', loss='categorical_crossentropy', metrics=['accuracy'])\n",
    "\n",
    "\n",
    "early_stopping = EarlyStopping(monitor='loss', patience=5, verbose=1)\n",
    "\n",
    "training_history = model.fit(train_generator, epochs=100, validation_data=validation_generator, callbacks=[early_stopping], batch_size=64)\n",
    "# training model "
   ]
  },
  {
   "cell_type": "code",
   "execution_count": 12,
   "metadata": {},
   "outputs": [
    {
     "name": "stdout",
     "output_type": "stream",
     "text": [
      "Evaluate on test data\n",
      "1099/1099 [==============================] - 45s 40ms/step - loss: 0.3555 - accuracy: 0.8945\n",
      "test loss, test accuracy: [0.3555010259151459, 0.8944912552833557]\n"
     ]
    },
    {
     "data": {
      "image/png": "[encoded data removed]",
      "text/plain": [
       "<Figure size 640x480 with 1 Axes>"
      ]
     },
     "metadata": {},
     "output_type": "display_data"
    }
   ],
   "source": [
    "import matplotlib.pyplot as plt\n",
    "print(\"Evaluate on test data\")\n",
    "results = model.evaluate(validation_generator, batch_size=32)\n",
    "print(\"test loss, test accuracy:\", results)\n",
    "\n",
    "plt.plot(training_history.history['loss'])\n",
    "plt.title('Training Loss')\n",
    "plt.xlabel('Epoch')\n",
    "plt.ylabel('Loss')\n",
    "plt.show()"
   ]
  },
  {
   "cell_type": "code",
   "execution_count": 2,
   "metadata": {},
   "outputs": [
    {
     "ename": "NameError",
     "evalue": "name 'ImageDataGenerator' is not defined",
     "output_type": "error",
     "traceback": [
      "\u001b[1;31m---------------------------------------------------------------------------\u001b[0m",
      "\u001b[1;31mNameError\u001b[0m                                 Traceback (most recent call last)",
      "Cell \u001b[1;32mIn[2], line 1\u001b[0m\n\u001b[1;32m----> 1\u001b[0m test_datagen \u001b[38;5;241m=\u001b[39m \u001b[43mImageDataGenerator\u001b[49m(\n\u001b[0;32m      2\u001b[0m     rescale\u001b[38;5;241m=\u001b[39m\u001b[38;5;241m1.\u001b[39m\u001b[38;5;241m/\u001b[39m\u001b[38;5;241m255\u001b[39m\n\u001b[0;32m      3\u001b[0m )\n\u001b[0;32m      5\u001b[0m \u001b[38;5;66;03m# Assuming your validation data is stored in a directory structure similar to training data\u001b[39;00m\n\u001b[0;32m      6\u001b[0m test_generator \u001b[38;5;241m=\u001b[39m test_datagen\u001b[38;5;241m.\u001b[39mflow_from_directory(\n\u001b[0;32m      7\u001b[0m     \u001b[38;5;124m'\u001b[39m\u001b[38;5;124mtest\u001b[39m\u001b[38;5;124m'\u001b[39m,  \u001b[38;5;66;03m# Directory with validation data\u001b[39;00m\n\u001b[0;32m      8\u001b[0m     target_size\u001b[38;5;241m=\u001b[39m(\u001b[38;5;241m224\u001b[39m, \u001b[38;5;241m224\u001b[39m),  \u001b[38;5;66;03m# Ensure this matches the input size used during training\u001b[39;00m\n\u001b[1;32m   (...)\u001b[0m\n\u001b[0;32m     11\u001b[0m     shuffle\u001b[38;5;241m=\u001b[39m\u001b[38;5;28;01mFalse\u001b[39;00m  \u001b[38;5;66;03m# No need to shuffle validation data\u001b[39;00m\n\u001b[0;32m     12\u001b[0m )\n",
      "\u001b[1;31mNameError\u001b[0m: name 'ImageDataGenerator' is not defined"
     ]
    }
   ],
   "source": [
    "test_datagen = ImageDataGenerator(\n",
    "    rescale=1./255\n",
    ")\n",
    "\n",
    "# Assuming your validation data is stored in a directory structure similar to training data\n",
    "test_generator = test_datagen.flow_from_directory(\n",
    "    'test',  # Directory with validation data\n",
    "    target_size=(224, 224),  # Ensure this matches the input size used during training\n",
    "    batch_size=16,  # Can be a different batch size than training\n",
    "    class_mode='categorical',  # Ensure this matches the training setup\n",
    "    shuffle=False  # No need to shuffle validation data\n",
    ")\n",
    "results = model.evaluate(test_generator, batch_size=32)\n",
    "print(\"test loss, test accuracy:\", results)\n",
    "\n",
    "plt.plot(training_history.history['loss'])\n",
    "plt.title('Training Loss')\n",
    "plt.xlabel('Epoch')\n",
    "plt.ylabel('Loss')\n",
    "plt.show()"
   ]
  },
  {
   "cell_type": "code",
   "execution_count": 15,
   "metadata": {},
   "outputs": [],
   "source": [
    "model.save(\"trained_model_v2.h5\")"
   ]
  },
  {
   "cell_type": "code",
   "execution_count": 1,
   "metadata": {},
   "outputs": [
    {
     "ename": "NameError",
     "evalue": "name 'model' is not defined",
     "output_type": "error",
     "traceback": [
      "\u001b[1;31m---------------------------------------------------------------------------\u001b[0m",
      "\u001b[1;31mNameError\u001b[0m                                 Traceback (most recent call last)",
      "Cell \u001b[1;32mIn[1], line 1\u001b[0m\n\u001b[1;32m----> 1\u001b[0m \u001b[43mmodel\u001b[49m\u001b[38;5;241m.\u001b[39msave_weights(\u001b[38;5;124m'\u001b[39m\u001b[38;5;124mmodel_weights.h5\u001b[39m\u001b[38;5;124m'\u001b[39m)\n",
      "\u001b[1;31mNameError\u001b[0m: name 'model' is not defined"
     ]
    }
   ],
   "source": [
    "model.save_weights('model_weights.h5')"
   ]
  }
 ],
 "metadata": {
  "kernelspec": {
   "display_name": "tf",
   "language": "python",
   "name": "python3"
  },
  "language_info": {
   "codemirror_mode": {
    "name": "ipython",
    "version": 3
   },
   "file_extension": ".py",
   "mimetype": "text/x-python",
   "name": "python",
   "nbconvert_exporter": "python",
   "pygments_lexer": "ipython3",
   "version": "3.10.14"
  }
 },
 "nbformat": 4,
 "nbformat_minor": 2
}
